{
 "cells": [
  {
   "cell_type": "code",
   "execution_count": 1,
   "metadata": {},
   "outputs": [],
   "source": [
    "import numpy as np\n",
    "import pandas as pd\n",
    "import matplotlib.pyplot as plt"
   ]
  },
  {
   "cell_type": "code",
   "execution_count": 2,
   "metadata": {},
   "outputs": [],
   "source": [
    "from nba_api.stats.static.teams import find_teams_by_full_name\n",
    "from nba_api.stats.endpoints.teamplayerdashboard import TeamPlayerDashboard"
   ]
  },
  {
   "cell_type": "code",
   "execution_count": 4,
   "metadata": {},
   "outputs": [],
   "source": [
    "team_id = find_teams_by_full_name(\"Philadelphia 76ers\")[0]['id']"
   ]
  },
  {
   "cell_type": "code",
   "execution_count": 15,
   "metadata": {},
   "outputs": [],
   "source": [
    "team = TeamPlayerDashboard(measure_type_detailed_defense = \"Base\",per_mode_detailed = \"Totals\", team_id = mia_id, season = \"2021-22\").players_season_totals.get_data_frame()\n"
   ]
  },
  {
   "cell_type": "code",
   "execution_count": 16,
   "metadata": {},
   "outputs": [],
   "source": [
    "team = team.loc[team.MIN >= 40]"
   ]
  },
  {
   "cell_type": "code",
   "execution_count": 17,
   "metadata": {},
   "outputs": [],
   "source": [
    "players = team[['PLAYER_NAME','MIN','PTS']].copy().reset_index(drop = True)"
   ]
  },
  {
   "cell_type": "code",
   "execution_count": 18,
   "metadata": {},
   "outputs": [],
   "source": [
    "#find player weight and points in respect to totals\n",
    "players[\"CPl%\"] = (1/len(players))*100\n",
    "players[\"CPts%\"] = (players[\"PTS\"]/players[\"PTS\"].sum())*100"
   ]
  },
  {
   "cell_type": "code",
   "execution_count": 19,
   "metadata": {},
   "outputs": [],
   "source": [
    "#sort by ascending CPts%\n",
    "players = players.sort_values(by=[\"CPts%\"])"
   ]
  },
  {
   "cell_type": "code",
   "execution_count": 20,
   "metadata": {},
   "outputs": [],
   "source": [
    "#si sale CopyWarning\n",
    "#pd.options.mode.chained_assignment = None "
   ]
  },
  {
   "cell_type": "code",
   "execution_count": 21,
   "metadata": {},
   "outputs": [],
   "source": [
    "#to get cumulatives \n",
    "players[\"CPl%\"] = players[\"CPl%\"].cumsum()\n",
    "players[\"CPts%\"] = players[\"CPts%\"].cumsum()\n",
    "       "
   ]
  },
  {
   "cell_type": "code",
   "execution_count": 22,
   "metadata": {},
   "outputs": [],
   "source": [
    "#to calculate gini coefficient of teams\n",
    "top = 0\n",
    "bottom = 0\n",
    "gini = 0\n",
    "for i in range(len(players)):\n",
    "   top = top + (float(players.iloc[i][\"CPl%\"])-float(players.iloc[i][\"CPts%\"]))\n",
    "   bottom = bottom + float(players.iloc[i][\"CPl%\"])\n",
    "\n",
    "gini = (top/bottom) * 100\n",
    "    "
   ]
  },
  {
   "cell_type": "code",
   "execution_count": 23,
   "metadata": {},
   "outputs": [
    {
     "data": {
      "text/plain": [
       "32.446808510638306"
      ]
     },
     "execution_count": 23,
     "metadata": {},
     "output_type": "execute_result"
    }
   ],
   "source": [
    "gini"
   ]
  },
  {
   "cell_type": "code",
   "execution_count": 24,
   "metadata": {},
   "outputs": [
    {
     "data": {
      "text/html": [
       "<div>\n",
       "<style scoped>\n",
       "    .dataframe tbody tr th:only-of-type {\n",
       "        vertical-align: middle;\n",
       "    }\n",
       "\n",
       "    .dataframe tbody tr th {\n",
       "        vertical-align: top;\n",
       "    }\n",
       "\n",
       "    .dataframe thead th {\n",
       "        text-align: right;\n",
       "    }\n",
       "</style>\n",
       "<table border=\"1\" class=\"dataframe\">\n",
       "  <thead>\n",
       "    <tr style=\"text-align: right;\">\n",
       "      <th></th>\n",
       "      <th>PLAYER_NAME</th>\n",
       "      <th>MIN</th>\n",
       "      <th>PTS</th>\n",
       "      <th>CPl%</th>\n",
       "      <th>CPts%</th>\n",
       "    </tr>\n",
       "  </thead>\n",
       "  <tbody>\n",
       "    <tr>\n",
       "      <th>1</th>\n",
       "      <td>Charles Bassey</td>\n",
       "      <td>80.965000</td>\n",
       "      <td>29</td>\n",
       "      <td>7.692308</td>\n",
       "      <td>1.285461</td>\n",
       "    </tr>\n",
       "    <tr>\n",
       "      <th>8</th>\n",
       "      <td>Paul Reed</td>\n",
       "      <td>137.098333</td>\n",
       "      <td>36</td>\n",
       "      <td>15.384615</td>\n",
       "      <td>2.881206</td>\n",
       "    </tr>\n",
       "    <tr>\n",
       "      <th>5</th>\n",
       "      <td>Isaiah Joe</td>\n",
       "      <td>124.348333</td>\n",
       "      <td>44</td>\n",
       "      <td>23.076923</td>\n",
       "      <td>4.831560</td>\n",
       "    </tr>\n",
       "    <tr>\n",
       "      <th>7</th>\n",
       "      <td>Matisse Thybulle</td>\n",
       "      <td>360.908333</td>\n",
       "      <td>90</td>\n",
       "      <td>30.769231</td>\n",
       "      <td>8.820922</td>\n",
       "    </tr>\n",
       "    <tr>\n",
       "      <th>2</th>\n",
       "      <td>Danny Green</td>\n",
       "      <td>325.070000</td>\n",
       "      <td>109</td>\n",
       "      <td>38.461538</td>\n",
       "      <td>13.652482</td>\n",
       "    </tr>\n",
       "    <tr>\n",
       "      <th>0</th>\n",
       "      <td>Andre Drummond</td>\n",
       "      <td>444.211667</td>\n",
       "      <td>134</td>\n",
       "      <td>46.153846</td>\n",
       "      <td>19.592199</td>\n",
       "    </tr>\n",
       "    <tr>\n",
       "      <th>10</th>\n",
       "      <td>Shake Milton</td>\n",
       "      <td>405.338333</td>\n",
       "      <td>186</td>\n",
       "      <td>53.846154</td>\n",
       "      <td>27.836879</td>\n",
       "    </tr>\n",
       "    <tr>\n",
       "      <th>3</th>\n",
       "      <td>Furkan Korkmaz</td>\n",
       "      <td>491.435000</td>\n",
       "      <td>193</td>\n",
       "      <td>61.538462</td>\n",
       "      <td>36.391844</td>\n",
       "    </tr>\n",
       "    <tr>\n",
       "      <th>4</th>\n",
       "      <td>Georges Niang</td>\n",
       "      <td>524.998333</td>\n",
       "      <td>236</td>\n",
       "      <td>69.230769</td>\n",
       "      <td>46.852837</td>\n",
       "    </tr>\n",
       "    <tr>\n",
       "      <th>6</th>\n",
       "      <td>Joel Embiid</td>\n",
       "      <td>353.116667</td>\n",
       "      <td>251</td>\n",
       "      <td>76.923077</td>\n",
       "      <td>57.978723</td>\n",
       "    </tr>\n",
       "    <tr>\n",
       "      <th>11</th>\n",
       "      <td>Tobias Harris</td>\n",
       "      <td>444.861667</td>\n",
       "      <td>261</td>\n",
       "      <td>84.615385</td>\n",
       "      <td>69.547872</td>\n",
       "    </tr>\n",
       "    <tr>\n",
       "      <th>9</th>\n",
       "      <td>Seth Curry</td>\n",
       "      <td>643.911667</td>\n",
       "      <td>308</td>\n",
       "      <td>92.307692</td>\n",
       "      <td>83.200355</td>\n",
       "    </tr>\n",
       "    <tr>\n",
       "      <th>12</th>\n",
       "      <td>Tyrese Maxey</td>\n",
       "      <td>749.603333</td>\n",
       "      <td>379</td>\n",
       "      <td>100.000000</td>\n",
       "      <td>100.000000</td>\n",
       "    </tr>\n",
       "  </tbody>\n",
       "</table>\n",
       "</div>"
      ],
      "text/plain": [
       "         PLAYER_NAME         MIN  PTS        CPl%       CPts%\n",
       "1     Charles Bassey   80.965000   29    7.692308    1.285461\n",
       "8          Paul Reed  137.098333   36   15.384615    2.881206\n",
       "5         Isaiah Joe  124.348333   44   23.076923    4.831560\n",
       "7   Matisse Thybulle  360.908333   90   30.769231    8.820922\n",
       "2        Danny Green  325.070000  109   38.461538   13.652482\n",
       "0     Andre Drummond  444.211667  134   46.153846   19.592199\n",
       "10      Shake Milton  405.338333  186   53.846154   27.836879\n",
       "3     Furkan Korkmaz  491.435000  193   61.538462   36.391844\n",
       "4      Georges Niang  524.998333  236   69.230769   46.852837\n",
       "6        Joel Embiid  353.116667  251   76.923077   57.978723\n",
       "11     Tobias Harris  444.861667  261   84.615385   69.547872\n",
       "9         Seth Curry  643.911667  308   92.307692   83.200355\n",
       "12      Tyrese Maxey  749.603333  379  100.000000  100.000000"
      ]
     },
     "execution_count": 24,
     "metadata": {},
     "output_type": "execute_result"
    }
   ],
   "source": [
    "players"
   ]
  },
  {
   "cell_type": "code",
   "execution_count": 26,
   "metadata": {},
   "outputs": [
    {
     "data": {
      "image/png": "[encoded data removed]",
      "text/plain": [
       "<Figure size 1080x1080 with 1 Axes>"
      ]
     },
     "metadata": {
      "needs_background": "light"
     },
     "output_type": "display_data"
    }
   ],
   "source": [
    "fig, ax = plt.subplots(figsize=(15,15))\n",
    "\n",
    "#Create a dot for each player\n",
    "#Find their team color in the COLORS dictionary\n",
    "#s stands for size, the dot size is proportional to the QBs number of plays\n",
    "\n",
    "for i in range(len(players)):\n",
    "    ax.scatter(players.iloc[i][\"CPl%\"], players.iloc[i][\"CPts%\"], alpha=.7,color = '#006BB6')\n",
    "\n",
    "i = 0\n",
    "while(i <= 100):\n",
    "    ax.scatter(i,i,alpha = .7, color = 'black')\n",
    "    i=i+1\n",
    "\n",
    "plt.plot(players[\"CPl%\"], players[\"CPts%\"],color = '#006BB6')\n",
    "\n",
    "\n",
    "\n",
    "#Add grid\n",
    "ax.grid(zorder=0,alpha=.4)\n",
    "ax.set_axisbelow(True)\n",
    "\n",
    "#set limits on graph\n",
    "ax.set_ylim(bottom = 0, top= 100)\n",
    "ax.set_xlim(left = 0, right = 100)\n",
    "\n",
    "#Remove top and right boundary lines\n",
    "ax.spines['right'].set_visible(False)\n",
    "ax.spines['top'].set_visible(False)\n",
    "\n",
    "#Add title, labels, and source\n",
    "ax.set_title('Gini Coefficient of the Philadelphia 76ers',fontsize=20,pad=15)\n",
    "ax.set_xlabel('CPl%',fontsize=16,labelpad=15)\n",
    "ax.set_ylabel('CPts%',fontsize=16,labelpad=15)\n",
    "plt.show()"
   ]
  },
  {
   "cell_type": "code",
   "execution_count": null,
   "metadata": {},
   "outputs": [],
   "source": []
  }
 ],
 "metadata": {
  "kernelspec": {
   "display_name": "Python 3",
   "language": "python",
   "name": "python3"
  },
  "language_info": {
   "codemirror_mode": {
    "name": "ipython",
    "version": 3
   },
   "file_extension": ".py",
   "mimetype": "text/x-python",
   "name": "python",
   "nbconvert_exporter": "python",
   "pygments_lexer": "ipython3",
   "version": "3.8.3"
  }
 },
 "nbformat": 4,
 "nbformat_minor": 4
}
